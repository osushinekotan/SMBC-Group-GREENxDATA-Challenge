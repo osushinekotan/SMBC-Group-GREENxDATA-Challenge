{
 "cells": [
  {
   "cell_type": "code",
   "execution_count": null,
   "metadata": {},
   "outputs": [],
   "source": [
    "import os\n",
    "import hydra\n",
    "import logging\n",
    "import json\n",
    "import pandas as pd\n",
    "import warnings\n",
    "import rootutils\n",
    "import numpy as np\n",
    "from pathlib import Path\n",
    "from hydra import compose, initialize\n",
    "from hydra.core.hydra_config import HydraConfig\n",
    "\n",
    "import optuna.integration.lightgbm as lgb\n",
    "from sklearn.utils.class_weight import compute_sample_weight\n",
    "\n",
    "\n",
    "rootutils.setup_root(search_from=\"../\", indicator=\".project-root\", pythonpath=True)\n",
    "\n",
    "from src.experiment.utils import assign_fold_index\n",
    "from src.experiment.feature.runner import run_extractors\n",
    "from src.experiment.model.custom_metrics import lgb_py_minus_macro_f1"
   ]
  },
  {
   "cell_type": "code",
   "execution_count": null,
   "metadata": {},
   "outputs": [],
   "source": [
    "OVERRIDES: list[str] = os.getenv(\"OVERRIDES\", \"experiment=043-tabular_v3\").split(\",\")\n",
    "TIME_BUDGET = 60 * 60 * 3"
   ]
  },
  {
   "cell_type": "code",
   "execution_count": null,
   "metadata": {},
   "outputs": [],
   "source": [
    "if OVERRIDES is None:\n",
    "    raise ValueError(\"OVERRIDES is not set\")\n",
    "\n",
    "with initialize(version_base=None, config_path=\"../../configs\"):\n",
    "    CFG = compose(\n",
    "        config_name=\"config.yaml\",\n",
    "        return_hydra_config=True,\n",
    "        overrides=OVERRIDES,\n",
    "    )\n",
    "    HydraConfig.instance().set_config(CFG)  # use HydraConfig for notebook to use hydra job\n",
    "\n",
    "logger = logging.getLogger()\n",
    "logger.setLevel(logging.INFO)\n",
    "\n",
    "if not logger.handlers:\n",
    "    handler = logging.StreamHandler()\n",
    "    logger.addHandler(handler)\n",
    "\n",
    "\n",
    "warnings.filterwarnings(\"ignore\")\n",
    "INPUT_DIR = Path(CFG.paths.input_dir)\n",
    "OUTPUT_DIR = Path(CFG.paths.output_dir)\n",
    "BASE_OUTPUT_DIR = Path(CFG.paths.resource_dir) / \"outputs\""
   ]
  },
  {
   "cell_type": "markdown",
   "metadata": {},
   "source": [
    "### Load Data\n"
   ]
  },
  {
   "cell_type": "code",
   "execution_count": null,
   "metadata": {},
   "outputs": [],
   "source": [
    "def assign_meta(df: pd.DataFrame, data=\"train\"):\n",
    "    df[\"data\"] = data\n",
    "    df[\"fold\"] = -1\n",
    "    return df\n",
    "\n",
    "\n",
    "train_df = pd.read_csv(INPUT_DIR / \"train.csv\").rename(columns={\"Unnamed: 0\": \"uid\"})\n",
    "test_df = pd.read_csv(INPUT_DIR / \"test.csv\").rename(columns={\"Unnamed: 0\": \"uid\"})\n",
    "sample_submission_df = pd.read_csv(INPUT_DIR / \"sample_submission.csv\")\n",
    "\n",
    "train_df = assign_meta(train_df, data=\"train\")\n",
    "test_df = assign_meta(test_df, data=\"test\")"
   ]
  },
  {
   "cell_type": "code",
   "execution_count": null,
   "metadata": {},
   "outputs": [],
   "source": [
    "kfold = hydra.utils.instantiate(CFG.cv)\n",
    "train_df = assign_fold_index(train_df=train_df, kfold=kfold, y_col=\"health\")\n",
    "\n",
    "raw_df = pd.concat([train_df, test_df], axis=0, ignore_index=True)"
   ]
  },
  {
   "cell_type": "markdown",
   "metadata": {},
   "source": [
    "### Feature Engineering\n"
   ]
  },
  {
   "cell_type": "code",
   "execution_count": null,
   "metadata": {},
   "outputs": [],
   "source": [
    "feature_extractors = hydra.utils.instantiate(CFG.feature_extractors)\n",
    "\n",
    "\n",
    "def get_agg_feature_extractors(feature_extractors, all_group_keys):\n",
    "    if feature_extractors is None:\n",
    "        return []\n",
    "\n",
    "    if all_group_keys is None:\n",
    "        return []\n",
    "\n",
    "    extractors = []\n",
    "    for extractor in feature_extractors:\n",
    "        for group_keys in all_group_keys:\n",
    "            _extractor = hydra.utils.instantiate(extractor, group_keys=group_keys)\n",
    "            extractors.append(_extractor)\n",
    "    return extractors\n",
    "\n",
    "\n",
    "feature_extractors.extend(get_agg_feature_extractors(CFG.get(\"agg_feature_extractors\"), CFG.get(\"group_keys_for_agg\")))\n",
    "feature_extractors.extend(get_agg_feature_extractors(CFG.get(\"te_feature_extractors\"), CFG.get(\"group_keys_for_te\")))\n",
    "feature_extractors.extend(\n",
    "    get_agg_feature_extractors(CFG.get(\"rolling_agg_feature_extractors\"), CFG.get(\"group_keys_for_rolling_agg\"))\n",
    ")\n",
    "\n",
    "\n",
    "raw_feature_df = run_extractors(\n",
    "    input_df=raw_df,\n",
    "    extractors=feature_extractors,\n",
    "    dirpath=Path(CFG.paths.feature_store_dir),\n",
    "    fit=True,\n",
    "    cache=CFG.cache_feature_extractors,\n",
    ")\n",
    "assert len(raw_df) == len(raw_feature_df)\n",
    "\n",
    "raw_feature_df = pd.concat([raw_df, raw_feature_df], axis=1)\n",
    "train_feature_df = raw_feature_df.query(\"data == 'train'\").reset_index(drop=True).astype({\"health\": int})\n",
    "test_feature_df = raw_feature_df.query(\"data == 'test'\").reset_index(drop=True)\n",
    "\n",
    "feature_columns = [col for col in train_feature_df.columns if col.startswith(\"f_\")]\n",
    "logger.info(f\"num features: {len(feature_columns)}\")\n",
    "\n",
    "train_feature_df_0 = train_feature_df.query(\"fold != 0\").reset_index(drop=True)\n",
    "valid_feature_df_0 = train_feature_df.query(\"fold == 0\").reset_index(drop=True)"
   ]
  },
  {
   "cell_type": "code",
   "execution_count": null,
   "metadata": {},
   "outputs": [],
   "source": [
    "default_params = dict(CFG.model.estimator)\n",
    "target_model_name = default_params.pop(\"_target_\")\n",
    "logger.info(f\"target model: {target_model_name}\")\n",
    "\n",
    "if target_model_name.startswith(\"lightgbm\"):\n",
    "    default_params[\"metric\"] = \"custom\"\n",
    "    num_boost_round = default_params.pop(\"n_estimators\")\n",
    "\n",
    "    unknown_params = [\"class_weight\", \"importance_type\"]\n",
    "    default_params = {k: v for k, v in default_params.items() if k not in unknown_params}\n",
    "\n",
    "    train_dataset = lgb.Dataset(\n",
    "        train_feature_df_0[feature_columns],\n",
    "        label=train_feature_df_0[\"health\"],\n",
    "        weight=compute_sample_weight(class_weight=\"balanced\", y=train_feature_df_0[\"health\"]),\n",
    "    )\n",
    "    valid_dataset = lgb.Dataset(\n",
    "        valid_feature_df_0[feature_columns], label=valid_feature_df_0[\"health\"], weight=np.ones(len(valid_feature_df_0))\n",
    "    )\n",
    "\n",
    "    model = lgb.train(\n",
    "        params=default_params,\n",
    "        train_set=train_dataset,\n",
    "        valid_sets=[train_dataset, valid_dataset],\n",
    "        num_boost_round=num_boost_round,\n",
    "        callbacks=[\n",
    "            lgb.early_stopping(stopping_rounds=100),\n",
    "            lgb.log_evaluation(100),\n",
    "        ],\n",
    "        feval=[lgb_py_minus_macro_f1],\n",
    "        show_progress_bar=False,\n",
    "        time_budget=TIME_BUDGET,\n",
    "    )\n",
    "\n",
    "\n",
    "opt_params = model.params.copy()\n",
    "\n",
    "# update params\n",
    "opt_params[\"calss_weight\"] = \"balanced\"\n",
    "opt_params[\"importance_type\"] = \"gain\"\n",
    "\n",
    "print(opt_params)\n",
    "json.dump(opt_params, open(OUTPUT_DIR / \"opt_params_lgb.json\", \"w\"), indent=4)"
   ]
  },
  {
   "cell_type": "code",
   "execution_count": null,
   "metadata": {},
   "outputs": [],
   "source": [
    "model.params"
   ]
  },
  {
   "cell_type": "code",
   "execution_count": null,
   "metadata": {},
   "outputs": [],
   "source": []
  }
 ],
 "metadata": {
  "kernelspec": {
   "display_name": ".venv",
   "language": "python",
   "name": "python3"
  },
  "language_info": {
   "codemirror_mode": {
    "name": "ipython",
    "version": 3
   },
   "file_extension": ".py",
   "mimetype": "text/x-python",
   "name": "python",
   "nbconvert_exporter": "python",
   "pygments_lexer": "ipython3",
   "version": "3.11.6"
  }
 },
 "nbformat": 4,
 "nbformat_minor": 2
}
